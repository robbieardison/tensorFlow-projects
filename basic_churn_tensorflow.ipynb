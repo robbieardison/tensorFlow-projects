{
 "cells": [
  {
   "cell_type": "code",
   "execution_count": 1,
   "id": "e82d8188-113f-44a2-bb66-01391c74e929",
   "metadata": {},
   "outputs": [],
   "source": [
    "import pandas as pd\n",
    "from sklearn.model_selection import train_test_split"
   ]
  },
  {
   "cell_type": "code",
   "execution_count": 2,
   "id": "60beff8e-97c0-4496-8f2a-02a2fe2f19d3",
   "metadata": {},
   "outputs": [],
   "source": [
    "df = pd.read_csv('Churn.csv')"
   ]
  },
  {
   "cell_type": "code",
   "execution_count": 3,
   "id": "bb5a1ff3-33f5-4585-b3f7-9ffec6b00660",
   "metadata": {},
   "outputs": [],
   "source": [
    "X = pd.get_dummies(df.drop(['Churn', 'Customer ID'], axis=1))\n",
    "y = df['Churn'].apply(lambda x: 1 if x=='Yes' else 0)"
   ]
  },
  {
   "cell_type": "code",
   "execution_count": 4,
   "id": "7b986670-d96c-4f6c-9c25-4af1b0e51a06",
   "metadata": {},
   "outputs": [],
   "source": [
    "X_train, X_test, y_train, y_test = train_test_split(X, y, test_size=.2)"
   ]
  },
  {
   "cell_type": "code",
   "execution_count": 7,
   "id": "589b01a2-8c64-4375-80a9-b6c7f5108904",
   "metadata": {},
   "outputs": [
    {
     "data": {
      "text/html": [
       "<div>\n",
       "<style scoped>\n",
       "    .dataframe tbody tr th:only-of-type {\n",
       "        vertical-align: middle;\n",
       "    }\n",
       "\n",
       "    .dataframe tbody tr th {\n",
       "        vertical-align: top;\n",
       "    }\n",
       "\n",
       "    .dataframe thead th {\n",
       "        text-align: right;\n",
       "    }\n",
       "</style>\n",
       "<table border=\"1\" class=\"dataframe\">\n",
       "  <thead>\n",
       "    <tr style=\"text-align: right;\">\n",
       "      <th></th>\n",
       "      <th>Senior Citizen</th>\n",
       "      <th>tenure</th>\n",
       "      <th>Monthly Charges</th>\n",
       "      <th>Gender_Female</th>\n",
       "      <th>Gender_Male</th>\n",
       "      <th>Partner_No</th>\n",
       "      <th>Partner_Yes</th>\n",
       "      <th>Dependents_No</th>\n",
       "      <th>Dependents_Yes</th>\n",
       "      <th>Phone Service_No</th>\n",
       "      <th>...</th>\n",
       "      <th>Total Charges_995.35</th>\n",
       "      <th>Total Charges_996.45</th>\n",
       "      <th>Total Charges_996.85</th>\n",
       "      <th>Total Charges_996.95</th>\n",
       "      <th>Total Charges_997.65</th>\n",
       "      <th>Total Charges_997.75</th>\n",
       "      <th>Total Charges_998.1</th>\n",
       "      <th>Total Charges_999.45</th>\n",
       "      <th>Total Charges_999.8</th>\n",
       "      <th>Total Charges_999.9</th>\n",
       "    </tr>\n",
       "  </thead>\n",
       "  <tbody>\n",
       "    <tr>\n",
       "      <th>2414</th>\n",
       "      <td>0</td>\n",
       "      <td>7</td>\n",
       "      <td>49.65</td>\n",
       "      <td>0</td>\n",
       "      <td>1</td>\n",
       "      <td>0</td>\n",
       "      <td>1</td>\n",
       "      <td>0</td>\n",
       "      <td>1</td>\n",
       "      <td>1</td>\n",
       "      <td>...</td>\n",
       "      <td>0</td>\n",
       "      <td>0</td>\n",
       "      <td>0</td>\n",
       "      <td>0</td>\n",
       "      <td>0</td>\n",
       "      <td>0</td>\n",
       "      <td>0</td>\n",
       "      <td>0</td>\n",
       "      <td>0</td>\n",
       "      <td>0</td>\n",
       "    </tr>\n",
       "    <tr>\n",
       "      <th>6821</th>\n",
       "      <td>0</td>\n",
       "      <td>59</td>\n",
       "      <td>93.35</td>\n",
       "      <td>1</td>\n",
       "      <td>0</td>\n",
       "      <td>0</td>\n",
       "      <td>1</td>\n",
       "      <td>1</td>\n",
       "      <td>0</td>\n",
       "      <td>0</td>\n",
       "      <td>...</td>\n",
       "      <td>0</td>\n",
       "      <td>0</td>\n",
       "      <td>0</td>\n",
       "      <td>0</td>\n",
       "      <td>0</td>\n",
       "      <td>0</td>\n",
       "      <td>0</td>\n",
       "      <td>0</td>\n",
       "      <td>0</td>\n",
       "      <td>0</td>\n",
       "    </tr>\n",
       "    <tr>\n",
       "      <th>3272</th>\n",
       "      <td>1</td>\n",
       "      <td>12</td>\n",
       "      <td>101.35</td>\n",
       "      <td>0</td>\n",
       "      <td>1</td>\n",
       "      <td>0</td>\n",
       "      <td>1</td>\n",
       "      <td>1</td>\n",
       "      <td>0</td>\n",
       "      <td>0</td>\n",
       "      <td>...</td>\n",
       "      <td>0</td>\n",
       "      <td>0</td>\n",
       "      <td>0</td>\n",
       "      <td>0</td>\n",
       "      <td>0</td>\n",
       "      <td>0</td>\n",
       "      <td>0</td>\n",
       "      <td>0</td>\n",
       "      <td>0</td>\n",
       "      <td>0</td>\n",
       "    </tr>\n",
       "    <tr>\n",
       "      <th>6141</th>\n",
       "      <td>0</td>\n",
       "      <td>3</td>\n",
       "      <td>19.95</td>\n",
       "      <td>1</td>\n",
       "      <td>0</td>\n",
       "      <td>1</td>\n",
       "      <td>0</td>\n",
       "      <td>1</td>\n",
       "      <td>0</td>\n",
       "      <td>0</td>\n",
       "      <td>...</td>\n",
       "      <td>0</td>\n",
       "      <td>0</td>\n",
       "      <td>0</td>\n",
       "      <td>0</td>\n",
       "      <td>0</td>\n",
       "      <td>0</td>\n",
       "      <td>0</td>\n",
       "      <td>0</td>\n",
       "      <td>0</td>\n",
       "      <td>0</td>\n",
       "    </tr>\n",
       "    <tr>\n",
       "      <th>6689</th>\n",
       "      <td>0</td>\n",
       "      <td>12</td>\n",
       "      <td>20.30</td>\n",
       "      <td>1</td>\n",
       "      <td>0</td>\n",
       "      <td>0</td>\n",
       "      <td>1</td>\n",
       "      <td>0</td>\n",
       "      <td>1</td>\n",
       "      <td>0</td>\n",
       "      <td>...</td>\n",
       "      <td>0</td>\n",
       "      <td>0</td>\n",
       "      <td>0</td>\n",
       "      <td>0</td>\n",
       "      <td>0</td>\n",
       "      <td>0</td>\n",
       "      <td>0</td>\n",
       "      <td>0</td>\n",
       "      <td>0</td>\n",
       "      <td>0</td>\n",
       "    </tr>\n",
       "  </tbody>\n",
       "</table>\n",
       "<p>5 rows × 6575 columns</p>\n",
       "</div>"
      ],
      "text/plain": [
       "      Senior Citizen  tenure  Monthly Charges  Gender_Female  Gender_Male  \\\n",
       "2414               0       7            49.65              0            1   \n",
       "6821               0      59            93.35              1            0   \n",
       "3272               1      12           101.35              0            1   \n",
       "6141               0       3            19.95              1            0   \n",
       "6689               0      12            20.30              1            0   \n",
       "\n",
       "      Partner_No  Partner_Yes  Dependents_No  Dependents_Yes  \\\n",
       "2414           0            1              0               1   \n",
       "6821           0            1              1               0   \n",
       "3272           0            1              1               0   \n",
       "6141           1            0              1               0   \n",
       "6689           0            1              0               1   \n",
       "\n",
       "      Phone Service_No  ...  Total Charges_995.35  Total Charges_996.45  \\\n",
       "2414                 1  ...                     0                     0   \n",
       "6821                 0  ...                     0                     0   \n",
       "3272                 0  ...                     0                     0   \n",
       "6141                 0  ...                     0                     0   \n",
       "6689                 0  ...                     0                     0   \n",
       "\n",
       "      Total Charges_996.85  Total Charges_996.95  Total Charges_997.65  \\\n",
       "2414                     0                     0                     0   \n",
       "6821                     0                     0                     0   \n",
       "3272                     0                     0                     0   \n",
       "6141                     0                     0                     0   \n",
       "6689                     0                     0                     0   \n",
       "\n",
       "      Total Charges_997.75  Total Charges_998.1  Total Charges_999.45  \\\n",
       "2414                     0                    0                     0   \n",
       "6821                     0                    0                     0   \n",
       "3272                     0                    0                     0   \n",
       "6141                     0                    0                     0   \n",
       "6689                     0                    0                     0   \n",
       "\n",
       "      Total Charges_999.8  Total Charges_999.9  \n",
       "2414                    0                    0  \n",
       "6821                    0                    0  \n",
       "3272                    0                    0  \n",
       "6141                    0                    0  \n",
       "6689                    0                    0  \n",
       "\n",
       "[5 rows x 6575 columns]"
      ]
     },
     "execution_count": 7,
     "metadata": {},
     "output_type": "execute_result"
    }
   ],
   "source": [
    "X_train.head()"
   ]
  },
  {
   "cell_type": "code",
   "execution_count": 5,
   "id": "4be4c93e-7931-4ca4-89cb-55ece3106627",
   "metadata": {},
   "outputs": [
    {
     "data": {
      "text/plain": [
       "2414    0\n",
       "6821    0\n",
       "3272    1\n",
       "6141    0\n",
       "6689    0\n",
       "Name: Churn, dtype: int64"
      ]
     },
     "execution_count": 5,
     "metadata": {},
     "output_type": "execute_result"
    }
   ],
   "source": [
    "y_train.head()"
   ]
  },
  {
   "cell_type": "markdown",
   "id": "d8d27e10-dd20-45e2-92a7-cf4a17c46dbd",
   "metadata": {},
   "source": [
    "# 1. Import Dependencies"
   ]
  },
  {
   "cell_type": "code",
   "execution_count": 1,
   "id": "5103d8b8-8796-4050-b793-d6ce80e6193c",
   "metadata": {},
   "outputs": [
    {
     "ename": "ModuleNotFoundError",
     "evalue": "No module named 'sklearn'",
     "output_type": "error",
     "traceback": [
      "\u001b[0;31m---------------------------------------------------------------------------\u001b[0m",
      "\u001b[0;31mModuleNotFoundError\u001b[0m                       Traceback (most recent call last)",
      "Cell \u001b[0;32mIn[1], line 3\u001b[0m\n\u001b[1;32m      1\u001b[0m \u001b[38;5;28;01mfrom\u001b[39;00m \u001b[38;5;21;01mtensorflow\u001b[39;00m\u001b[38;5;21;01m.\u001b[39;00m\u001b[38;5;21;01mkeras\u001b[39;00m\u001b[38;5;21;01m.\u001b[39;00m\u001b[38;5;21;01mmodels\u001b[39;00m \u001b[38;5;28;01mimport\u001b[39;00m Sequential, load_model\n\u001b[1;32m      2\u001b[0m \u001b[38;5;28;01mfrom\u001b[39;00m \u001b[38;5;21;01mtensorflow\u001b[39;00m\u001b[38;5;21;01m.\u001b[39;00m\u001b[38;5;21;01mkeras\u001b[39;00m\u001b[38;5;21;01m.\u001b[39;00m\u001b[38;5;21;01mlayers\u001b[39;00m \u001b[38;5;28;01mimport\u001b[39;00m Dense\n\u001b[0;32m----> 3\u001b[0m \u001b[38;5;28;01mfrom\u001b[39;00m \u001b[38;5;21;01msklearn\u001b[39;00m\u001b[38;5;21;01m.\u001b[39;00m\u001b[38;5;21;01mmetrics\u001b[39;00m \u001b[38;5;28;01mimport\u001b[39;00m accuracy_score\n",
      "\u001b[0;31mModuleNotFoundError\u001b[0m: No module named 'sklearn'"
     ]
    }
   ],
   "source": [
    "from tensorflow.keras.models import Sequential, load_model\n",
    "from tensorflow.keras.layers import Dense\n",
    "from sklearn.metrics import accuracy_score"
   ]
  },
  {
   "cell_type": "code",
   "execution_count": 1,
   "id": "cabdb79c-0e70-47b3-a4c5-4e6a137c4ee5",
   "metadata": {},
   "outputs": [
    {
     "name": "stdout",
     "output_type": "stream",
     "text": [
      "zsh:1: command not found: pip\n"
     ]
    }
   ],
   "source": [
    "!pip install psutil"
   ]
  },
  {
   "cell_type": "markdown",
   "id": "3667cede-04ee-4a26-9332-a5313de66ac0",
   "metadata": {},
   "source": [
    "# 2. Build and Compile Model"
   ]
  },
  {
   "cell_type": "markdown",
   "id": "2b97f531-f321-40a1-a59f-300759cfbcc0",
   "metadata": {},
   "source": [
    "# 3. Fit, Predict, and Evaluate"
   ]
  },
  {
   "cell_type": "markdown",
   "id": "85fd8d04-4daa-4f00-aa32-a0008cd4fa3e",
   "metadata": {},
   "source": [
    "# 4. Saving and Reloading"
   ]
  }
 ],
 "metadata": {
  "kernelspec": {
   "display_name": "tf-pro",
   "language": "python",
   "name": "tf-pro"
  },
  "language_info": {
   "codemirror_mode": {
    "name": "ipython",
    "version": 3
   },
   "file_extension": ".py",
   "mimetype": "text/x-python",
   "name": "python",
   "nbconvert_exporter": "python",
   "pygments_lexer": "ipython3",
   "version": "3.11.5"
  }
 },
 "nbformat": 4,
 "nbformat_minor": 5
}
