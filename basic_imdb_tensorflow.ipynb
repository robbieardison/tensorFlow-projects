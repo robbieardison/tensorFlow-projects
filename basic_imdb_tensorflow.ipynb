{
 "cells": [
  {
   "cell_type": "code",
   "execution_count": 1,
   "id": "6e4c30ab",
   "metadata": {},
   "outputs": [
    {
     "data": {
      "text/plain": [
       "'/Users/robbieardison/opt/anaconda3/bin/python'"
      ]
     },
     "execution_count": 1,
     "metadata": {},
     "output_type": "execute_result"
    }
   ],
   "source": [
    "import sys\n",
    "sys.executable"
   ]
  },
  {
   "cell_type": "code",
   "execution_count": null,
   "id": "44b8c539",
   "metadata": {},
   "outputs": [],
   "source": [
    "import tensorflow as tf\n",
    "from tensorflow.keras.preprocessing.sequence import pad_sequences"
   ]
  },
  {
   "cell_type": "code",
   "execution_count": null,
   "id": "ea548def",
   "metadata": {},
   "outputs": [],
   "source": [
    "# Load the IMDb dataset\n",
    "imdb = tf.keras.datasets.imdb\n",
    "(train_data, train_labels), (test_data, test_labels) = imdb.load_data(num_words=10000)\n",
    "\n",
    "# Load the word index (for decoding reviews)\n",
    "word_index = imdb.get_word_index()\n",
    "\n",
    "# Reverse the word index to decode reviews\n",
    "reverse_word_index = dict([(value, key) for (key, value) in word_index.items()])\n",
    "\n",
    "# Decode a review\n",
    "def decode_review(text):\n",
    "    return ' '.join([reverse_word_index.get(i, '?') for i in text])\n",
    "\n",
    "# Padding the sequences\n",
    "train_data = pad_sequences(train_data, maxlen=250, padding='post', truncating='post')\n",
    "test_data = pad_sequences(test_data, maxlen=250, padding='post', truncating='post')\n",
    "\n",
    "# Build a simple neural network for text classification\n",
    "model = tf.keras.Sequential([\n",
    "    tf.keras.layers.Embedding(input_dim=10000, output_dim=16, input_length=250),\n",
    "    tf.keras.layers.Flatten(),\n",
    "    tf.keras.layers.Dense(24, activation='relu'),\n",
    "    tf.keras.layers.Dense(1, activation='sigmoid')\n",
    "])\n",
    "\n",
    "model.compile(optimizer='adam', loss='binary_crossentropy', metrics=['accuracy'])\n",
    "\n",
    "# Training the model\n",
    "model.fit(train_data, train_labels, epochs=10)\n",
    "\n",
    "# Make predictions\n",
    "test_reviews = [\"This movie is amazing!\", \"I couldn't enjoy this film.\"]\n",
    "test_sequences = [[word_index.get(word, 2) for word in review.split()] for review in test_reviews]\n",
    "test_data = pad_sequences(test_sequences, maxlen=250, padding='post', truncating='post')\n",
    "predictions = model.predict(test_data)\n",
    "\n",
    "for i, review in enumerate(test_reviews):\n",
    "    sentiment = \"positive\" if predictions[i] > 0.5 else \"negative\"\n",
    "    print(f\"Review: {review} | Sentiment: {sentiment} (Confidence: {predictions[i][0]:.2f})\")\n"
   ]
  }
 ],
 "metadata": {
  "kernelspec": {
   "display_name": "Python 3 (ipykernel)",
   "language": "python",
   "name": "python3"
  },
  "language_info": {
   "codemirror_mode": {
    "name": "ipython",
    "version": 3
   },
   "file_extension": ".py",
   "mimetype": "text/x-python",
   "name": "python",
   "nbconvert_exporter": "python",
   "pygments_lexer": "ipython3",
   "version": "3.9.7"
  }
 },
 "nbformat": 4,
 "nbformat_minor": 5
}
